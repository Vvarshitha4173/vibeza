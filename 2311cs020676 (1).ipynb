{
  "nbformat": 4,
  "nbformat_minor": 0,
  "metadata": {
    "colab": {
      "provenance": []
    },
    "kernelspec": {
      "name": "python3",
      "display_name": "Python 3"
    },
    "language_info": {
      "name": "python"
    }
  },
  "cells": [
    {
      "cell_type": "code",
      "execution_count": null,
      "metadata": {
        "colab": {
          "base_uri": "https://localhost:8080/"
        },
        "id": "KQqK2Zr2l7MB",
        "outputId": "e847435b-5013-4258-f052-178893aa74f1"
      },
      "outputs": [
        {
          "output_type": "stream",
          "name": "stdout",
          "text": [
            "Mounted at /content/drive\n"
          ]
        }
      ],
      "source": [
        "\n",
        "from google.colab import drive\n",
        "drive.mount('/content/drive')"
      ]
    },
    {
      "cell_type": "code",
      "source": [
        "import pandas as pd\n",
        "import numpy as np\n",
        "df=pd.read_csv('')"
      ],
      "metadata": {
        "id": "Sguog0F8mb5g"
      },
      "execution_count": null,
      "outputs": []
    },
    {
      "cell_type": "code",
      "source": [
        "s1=[40,None,45,76]\n",
        "s2=[54,75,None,75]\n",
        "s3=[64,85,84,None]\n",
        "s4=[None,95,42,75]\n",
        "a=[s1,s2,s3,s4]\n",
        "a"
      ],
      "metadata": {
        "id": "bXn1O-nfwjoN",
        "colab": {
          "base_uri": "https://localhost:8080/"
        },
        "outputId": "47ed44a2-f5e4-4d34-9bcf-36dffd318e75"
      },
      "execution_count": null,
      "outputs": [
        {
          "output_type": "execute_result",
          "data": {
            "text/plain": [
              "[[40, None, 45, 76],\n",
              " [54, 75, None, 75],\n",
              " [64, 85, 84, None],\n",
              " [None, 95, 42, 75]]"
            ]
          },
          "metadata": {},
          "execution_count": 2
        }
      ]
    },
    {
      "cell_type": "code",
      "source": [
        "import pandas as pd\n",
        "df=pd.DataFrame(a,columns=[\"c\",'c++',\"PYTHON\",\"JAVA\"],index=[103,744,733,733])\n",
        "df"
      ],
      "metadata": {
        "colab": {
          "base_uri": "https://localhost:8080/",
          "height": 175
        },
        "id": "RbRfH-5vnzWc",
        "outputId": "3b4bb709-dcab-43df-93c3-af878e830a16"
      },
      "execution_count": null,
      "outputs": [
        {
          "output_type": "execute_result",
          "data": {
            "text/plain": [
              "        c   c++  PYTHON  JAVA\n",
              "103  40.0   NaN    45.0  76.0\n",
              "744  54.0  75.0     NaN  75.0\n",
              "733  64.0  85.0    84.0   NaN\n",
              "733   NaN  95.0    42.0  75.0"
            ],
            "text/html": [
              "\n",
              "  <div id=\"df-60673790-97a4-48b9-8baa-190c61ab5230\" class=\"colab-df-container\">\n",
              "    <div>\n",
              "<style scoped>\n",
              "    .dataframe tbody tr th:only-of-type {\n",
              "        vertical-align: middle;\n",
              "    }\n",
              "\n",
              "    .dataframe tbody tr th {\n",
              "        vertical-align: top;\n",
              "    }\n",
              "\n",
              "    .dataframe thead th {\n",
              "        text-align: right;\n",
              "    }\n",
              "</style>\n",
              "<table border=\"1\" class=\"dataframe\">\n",
              "  <thead>\n",
              "    <tr style=\"text-align: right;\">\n",
              "      <th></th>\n",
              "      <th>c</th>\n",
              "      <th>c++</th>\n",
              "      <th>PYTHON</th>\n",
              "      <th>JAVA</th>\n",
              "    </tr>\n",
              "  </thead>\n",
              "  <tbody>\n",
              "    <tr>\n",
              "      <th>103</th>\n",
              "      <td>40.0</td>\n",
              "      <td>NaN</td>\n",
              "      <td>45.0</td>\n",
              "      <td>76.0</td>\n",
              "    </tr>\n",
              "    <tr>\n",
              "      <th>744</th>\n",
              "      <td>54.0</td>\n",
              "      <td>75.0</td>\n",
              "      <td>NaN</td>\n",
              "      <td>75.0</td>\n",
              "    </tr>\n",
              "    <tr>\n",
              "      <th>733</th>\n",
              "      <td>64.0</td>\n",
              "      <td>85.0</td>\n",
              "      <td>84.0</td>\n",
              "      <td>NaN</td>\n",
              "    </tr>\n",
              "    <tr>\n",
              "      <th>733</th>\n",
              "      <td>NaN</td>\n",
              "      <td>95.0</td>\n",
              "      <td>42.0</td>\n",
              "      <td>75.0</td>\n",
              "    </tr>\n",
              "  </tbody>\n",
              "</table>\n",
              "</div>\n",
              "    <div class=\"colab-df-buttons\">\n",
              "\n",
              "  <div class=\"colab-df-container\">\n",
              "    <button class=\"colab-df-convert\" onclick=\"convertToInteractive('df-60673790-97a4-48b9-8baa-190c61ab5230')\"\n",
              "            title=\"Convert this dataframe to an interactive table.\"\n",
              "            style=\"display:none;\">\n",
              "\n",
              "  <svg xmlns=\"http://www.w3.org/2000/svg\" height=\"24px\" viewBox=\"0 -960 960 960\">\n",
              "    <path d=\"M120-120v-720h720v720H120Zm60-500h600v-160H180v160Zm220 220h160v-160H400v160Zm0 220h160v-160H400v160ZM180-400h160v-160H180v160Zm440 0h160v-160H620v160ZM180-180h160v-160H180v160Zm440 0h160v-160H620v160Z\"/>\n",
              "  </svg>\n",
              "    </button>\n",
              "\n",
              "  <style>\n",
              "    .colab-df-container {\n",
              "      display:flex;\n",
              "      gap: 12px;\n",
              "    }\n",
              "\n",
              "    .colab-df-convert {\n",
              "      background-color: #E8F0FE;\n",
              "      border: none;\n",
              "      border-radius: 50%;\n",
              "      cursor: pointer;\n",
              "      display: none;\n",
              "      fill: #1967D2;\n",
              "      height: 32px;\n",
              "      padding: 0 0 0 0;\n",
              "      width: 32px;\n",
              "    }\n",
              "\n",
              "    .colab-df-convert:hover {\n",
              "      background-color: #E2EBFA;\n",
              "      box-shadow: 0px 1px 2px rgba(60, 64, 67, 0.3), 0px 1px 3px 1px rgba(60, 64, 67, 0.15);\n",
              "      fill: #174EA6;\n",
              "    }\n",
              "\n",
              "    .colab-df-buttons div {\n",
              "      margin-bottom: 4px;\n",
              "    }\n",
              "\n",
              "    [theme=dark] .colab-df-convert {\n",
              "      background-color: #3B4455;\n",
              "      fill: #D2E3FC;\n",
              "    }\n",
              "\n",
              "    [theme=dark] .colab-df-convert:hover {\n",
              "      background-color: #434B5C;\n",
              "      box-shadow: 0px 1px 3px 1px rgba(0, 0, 0, 0.15);\n",
              "      filter: drop-shadow(0px 1px 2px rgba(0, 0, 0, 0.3));\n",
              "      fill: #FFFFFF;\n",
              "    }\n",
              "  </style>\n",
              "\n",
              "    <script>\n",
              "      const buttonEl =\n",
              "        document.querySelector('#df-60673790-97a4-48b9-8baa-190c61ab5230 button.colab-df-convert');\n",
              "      buttonEl.style.display =\n",
              "        google.colab.kernel.accessAllowed ? 'block' : 'none';\n",
              "\n",
              "      async function convertToInteractive(key) {\n",
              "        const element = document.querySelector('#df-60673790-97a4-48b9-8baa-190c61ab5230');\n",
              "        const dataTable =\n",
              "          await google.colab.kernel.invokeFunction('convertToInteractive',\n",
              "                                                    [key], {});\n",
              "        if (!dataTable) return;\n",
              "\n",
              "        const docLinkHtml = 'Like what you see? Visit the ' +\n",
              "          '<a target=\"_blank\" href=https://colab.research.google.com/notebooks/data_table.ipynb>data table notebook</a>'\n",
              "          + ' to learn more about interactive tables.';\n",
              "        element.innerHTML = '';\n",
              "        dataTable['output_type'] = 'display_data';\n",
              "        await google.colab.output.renderOutput(dataTable, element);\n",
              "        const docLink = document.createElement('div');\n",
              "        docLink.innerHTML = docLinkHtml;\n",
              "        element.appendChild(docLink);\n",
              "      }\n",
              "    </script>\n",
              "  </div>\n",
              "\n",
              "\n",
              "<div id=\"df-a43f2e17-f599-4490-a63b-4dfc66f31a22\">\n",
              "  <button class=\"colab-df-quickchart\" onclick=\"quickchart('df-a43f2e17-f599-4490-a63b-4dfc66f31a22')\"\n",
              "            title=\"Suggest charts\"\n",
              "            style=\"display:none;\">\n",
              "\n",
              "<svg xmlns=\"http://www.w3.org/2000/svg\" height=\"24px\"viewBox=\"0 0 24 24\"\n",
              "     width=\"24px\">\n",
              "    <g>\n",
              "        <path d=\"M19 3H5c-1.1 0-2 .9-2 2v14c0 1.1.9 2 2 2h14c1.1 0 2-.9 2-2V5c0-1.1-.9-2-2-2zM9 17H7v-7h2v7zm4 0h-2V7h2v10zm4 0h-2v-4h2v4z\"/>\n",
              "    </g>\n",
              "</svg>\n",
              "  </button>\n",
              "\n",
              "<style>\n",
              "  .colab-df-quickchart {\n",
              "      --bg-color: #E8F0FE;\n",
              "      --fill-color: #1967D2;\n",
              "      --hover-bg-color: #E2EBFA;\n",
              "      --hover-fill-color: #174EA6;\n",
              "      --disabled-fill-color: #AAA;\n",
              "      --disabled-bg-color: #DDD;\n",
              "  }\n",
              "\n",
              "  [theme=dark] .colab-df-quickchart {\n",
              "      --bg-color: #3B4455;\n",
              "      --fill-color: #D2E3FC;\n",
              "      --hover-bg-color: #434B5C;\n",
              "      --hover-fill-color: #FFFFFF;\n",
              "      --disabled-bg-color: #3B4455;\n",
              "      --disabled-fill-color: #666;\n",
              "  }\n",
              "\n",
              "  .colab-df-quickchart {\n",
              "    background-color: var(--bg-color);\n",
              "    border: none;\n",
              "    border-radius: 50%;\n",
              "    cursor: pointer;\n",
              "    display: none;\n",
              "    fill: var(--fill-color);\n",
              "    height: 32px;\n",
              "    padding: 0;\n",
              "    width: 32px;\n",
              "  }\n",
              "\n",
              "  .colab-df-quickchart:hover {\n",
              "    background-color: var(--hover-bg-color);\n",
              "    box-shadow: 0 1px 2px rgba(60, 64, 67, 0.3), 0 1px 3px 1px rgba(60, 64, 67, 0.15);\n",
              "    fill: var(--button-hover-fill-color);\n",
              "  }\n",
              "\n",
              "  .colab-df-quickchart-complete:disabled,\n",
              "  .colab-df-quickchart-complete:disabled:hover {\n",
              "    background-color: var(--disabled-bg-color);\n",
              "    fill: var(--disabled-fill-color);\n",
              "    box-shadow: none;\n",
              "  }\n",
              "\n",
              "  .colab-df-spinner {\n",
              "    border: 2px solid var(--fill-color);\n",
              "    border-color: transparent;\n",
              "    border-bottom-color: var(--fill-color);\n",
              "    animation:\n",
              "      spin 1s steps(1) infinite;\n",
              "  }\n",
              "\n",
              "  @keyframes spin {\n",
              "    0% {\n",
              "      border-color: transparent;\n",
              "      border-bottom-color: var(--fill-color);\n",
              "      border-left-color: var(--fill-color);\n",
              "    }\n",
              "    20% {\n",
              "      border-color: transparent;\n",
              "      border-left-color: var(--fill-color);\n",
              "      border-top-color: var(--fill-color);\n",
              "    }\n",
              "    30% {\n",
              "      border-color: transparent;\n",
              "      border-left-color: var(--fill-color);\n",
              "      border-top-color: var(--fill-color);\n",
              "      border-right-color: var(--fill-color);\n",
              "    }\n",
              "    40% {\n",
              "      border-color: transparent;\n",
              "      border-right-color: var(--fill-color);\n",
              "      border-top-color: var(--fill-color);\n",
              "    }\n",
              "    60% {\n",
              "      border-color: transparent;\n",
              "      border-right-color: var(--fill-color);\n",
              "    }\n",
              "    80% {\n",
              "      border-color: transparent;\n",
              "      border-right-color: var(--fill-color);\n",
              "      border-bottom-color: var(--fill-color);\n",
              "    }\n",
              "    90% {\n",
              "      border-color: transparent;\n",
              "      border-bottom-color: var(--fill-color);\n",
              "    }\n",
              "  }\n",
              "</style>\n",
              "\n",
              "  <script>\n",
              "    async function quickchart(key) {\n",
              "      const quickchartButtonEl =\n",
              "        document.querySelector('#' + key + ' button');\n",
              "      quickchartButtonEl.disabled = true;  // To prevent multiple clicks.\n",
              "      quickchartButtonEl.classList.add('colab-df-spinner');\n",
              "      try {\n",
              "        const charts = await google.colab.kernel.invokeFunction(\n",
              "            'suggestCharts', [key], {});\n",
              "      } catch (error) {\n",
              "        console.error('Error during call to suggestCharts:', error);\n",
              "      }\n",
              "      quickchartButtonEl.classList.remove('colab-df-spinner');\n",
              "      quickchartButtonEl.classList.add('colab-df-quickchart-complete');\n",
              "    }\n",
              "    (() => {\n",
              "      let quickchartButtonEl =\n",
              "        document.querySelector('#df-a43f2e17-f599-4490-a63b-4dfc66f31a22 button');\n",
              "      quickchartButtonEl.style.display =\n",
              "        google.colab.kernel.accessAllowed ? 'block' : 'none';\n",
              "    })();\n",
              "  </script>\n",
              "</div>\n",
              "\n",
              "  <div id=\"id_7de5d84c-4c56-4b57-9481-ae7f5b53ab1f\">\n",
              "    <style>\n",
              "      .colab-df-generate {\n",
              "        background-color: #E8F0FE;\n",
              "        border: none;\n",
              "        border-radius: 50%;\n",
              "        cursor: pointer;\n",
              "        display: none;\n",
              "        fill: #1967D2;\n",
              "        height: 32px;\n",
              "        padding: 0 0 0 0;\n",
              "        width: 32px;\n",
              "      }\n",
              "\n",
              "      .colab-df-generate:hover {\n",
              "        background-color: #E2EBFA;\n",
              "        box-shadow: 0px 1px 2px rgba(60, 64, 67, 0.3), 0px 1px 3px 1px rgba(60, 64, 67, 0.15);\n",
              "        fill: #174EA6;\n",
              "      }\n",
              "\n",
              "      [theme=dark] .colab-df-generate {\n",
              "        background-color: #3B4455;\n",
              "        fill: #D2E3FC;\n",
              "      }\n",
              "\n",
              "      [theme=dark] .colab-df-generate:hover {\n",
              "        background-color: #434B5C;\n",
              "        box-shadow: 0px 1px 3px 1px rgba(0, 0, 0, 0.15);\n",
              "        filter: drop-shadow(0px 1px 2px rgba(0, 0, 0, 0.3));\n",
              "        fill: #FFFFFF;\n",
              "      }\n",
              "    </style>\n",
              "    <button class=\"colab-df-generate\" onclick=\"generateWithVariable('df')\"\n",
              "            title=\"Generate code using this dataframe.\"\n",
              "            style=\"display:none;\">\n",
              "\n",
              "  <svg xmlns=\"http://www.w3.org/2000/svg\" height=\"24px\"viewBox=\"0 0 24 24\"\n",
              "       width=\"24px\">\n",
              "    <path d=\"M7,19H8.4L18.45,9,17,7.55,7,17.6ZM5,21V16.75L18.45,3.32a2,2,0,0,1,2.83,0l1.4,1.43a1.91,1.91,0,0,1,.58,1.4,1.91,1.91,0,0,1-.58,1.4L9.25,21ZM18.45,9,17,7.55Zm-12,3A5.31,5.31,0,0,0,4.9,8.1,5.31,5.31,0,0,0,1,6.5,5.31,5.31,0,0,0,4.9,4.9,5.31,5.31,0,0,0,6.5,1,5.31,5.31,0,0,0,8.1,4.9,5.31,5.31,0,0,0,12,6.5,5.46,5.46,0,0,0,6.5,12Z\"/>\n",
              "  </svg>\n",
              "    </button>\n",
              "    <script>\n",
              "      (() => {\n",
              "      const buttonEl =\n",
              "        document.querySelector('#id_7de5d84c-4c56-4b57-9481-ae7f5b53ab1f button.colab-df-generate');\n",
              "      buttonEl.style.display =\n",
              "        google.colab.kernel.accessAllowed ? 'block' : 'none';\n",
              "\n",
              "      buttonEl.onclick = () => {\n",
              "        google.colab.notebook.generateWithVariable('df');\n",
              "      }\n",
              "      })();\n",
              "    </script>\n",
              "  </div>\n",
              "\n",
              "    </div>\n",
              "  </div>\n"
            ],
            "application/vnd.google.colaboratory.intrinsic+json": {
              "type": "dataframe",
              "variable_name": "df",
              "summary": "{\n  \"name\": \"df\",\n  \"rows\": 4,\n  \"fields\": [\n    {\n      \"column\": \"c\",\n      \"properties\": {\n        \"dtype\": \"number\",\n        \"std\": 12.055427546683415,\n        \"min\": 40.0,\n        \"max\": 64.0,\n        \"num_unique_values\": 3,\n        \"samples\": [\n          40.0,\n          54.0,\n          64.0\n        ],\n        \"semantic_type\": \"\",\n        \"description\": \"\"\n      }\n    },\n    {\n      \"column\": \"c++\",\n      \"properties\": {\n        \"dtype\": \"number\",\n        \"std\": 10.0,\n        \"min\": 75.0,\n        \"max\": 95.0,\n        \"num_unique_values\": 3,\n        \"samples\": [\n          75.0,\n          85.0,\n          95.0\n        ],\n        \"semantic_type\": \"\",\n        \"description\": \"\"\n      }\n    },\n    {\n      \"column\": \"PYTHON\",\n      \"properties\": {\n        \"dtype\": \"number\",\n        \"std\": 23.430749027719962,\n        \"min\": 42.0,\n        \"max\": 84.0,\n        \"num_unique_values\": 3,\n        \"samples\": [\n          45.0,\n          84.0,\n          42.0\n        ],\n        \"semantic_type\": \"\",\n        \"description\": \"\"\n      }\n    },\n    {\n      \"column\": \"JAVA\",\n      \"properties\": {\n        \"dtype\": \"number\",\n        \"std\": 0.5773502691896257,\n        \"min\": 75.0,\n        \"max\": 76.0,\n        \"num_unique_values\": 2,\n        \"samples\": [\n          75.0,\n          76.0\n        ],\n        \"semantic_type\": \"\",\n        \"description\": \"\"\n      }\n    }\n  ]\n}"
            }
          },
          "metadata": {},
          "execution_count": 3
        }
      ]
    },
    {
      "cell_type": "code",
      "source": [
        "csvf=df.to_csv(\"/content/sample_data/mnist_test.csv\")"
      ],
      "metadata": {
        "id": "rfSnPFYlo65-"
      },
      "execution_count": null,
      "outputs": []
    },
    {
      "cell_type": "code",
      "source": [
        "fr=pd.read_csv(\"/content/sample_data/mnist_test.csv\")"
      ],
      "metadata": {
        "id": "Fp2iOFKFsHTM"
      },
      "execution_count": null,
      "outputs": []
    },
    {
      "cell_type": "code",
      "source": [
        "from pandas import read_csv\n",
        "from numpy import set_printoptions\n",
        "from sklearn import preprocessing\n",
        "path = r'C:\\pima-indians-diabetes.csv'\n",
        "names = ['preg', 'plas', 'pres', 'skin', 'test', 'mass', 'pedi', 'age', 'class']\n",
        "dataframe = read_csv(path, names=names)\n",
        "array = dataframe.values"
      ],
      "metadata": {
        "id": "VmrmKGmFy2oV",
        "outputId": "e4405776-5468-4098-e5a7-23057c2d4cc0",
        "colab": {
          "base_uri": "https://localhost:8080/",
          "height": 356
        }
      },
      "execution_count": null,
      "outputs": [
        {
          "output_type": "error",
          "ename": "FileNotFoundError",
          "evalue": "[Errno 2] No such file or directory: 'C:\\\\pima-indians-diabetes.csv'",
          "traceback": [
            "\u001b[0;31m---------------------------------------------------------------------------\u001b[0m",
            "\u001b[0;31mFileNotFoundError\u001b[0m                         Traceback (most recent call last)",
            "\u001b[0;32m<ipython-input-8-6c321b629d64>\u001b[0m in \u001b[0;36m<cell line: 0>\u001b[0;34m()\u001b[0m\n\u001b[1;32m      4\u001b[0m \u001b[0mpath\u001b[0m \u001b[0;34m=\u001b[0m \u001b[0;34mr'C:\\pima-indians-diabetes.csv'\u001b[0m\u001b[0;34m\u001b[0m\u001b[0;34m\u001b[0m\u001b[0m\n\u001b[1;32m      5\u001b[0m \u001b[0mnames\u001b[0m \u001b[0;34m=\u001b[0m \u001b[0;34m[\u001b[0m\u001b[0;34m'preg'\u001b[0m\u001b[0;34m,\u001b[0m \u001b[0;34m'plas'\u001b[0m\u001b[0;34m,\u001b[0m \u001b[0;34m'pres'\u001b[0m\u001b[0;34m,\u001b[0m \u001b[0;34m'skin'\u001b[0m\u001b[0;34m,\u001b[0m \u001b[0;34m'test'\u001b[0m\u001b[0;34m,\u001b[0m \u001b[0;34m'mass'\u001b[0m\u001b[0;34m,\u001b[0m \u001b[0;34m'pedi'\u001b[0m\u001b[0;34m,\u001b[0m \u001b[0;34m'age'\u001b[0m\u001b[0;34m,\u001b[0m \u001b[0;34m'class'\u001b[0m\u001b[0;34m]\u001b[0m\u001b[0;34m\u001b[0m\u001b[0;34m\u001b[0m\u001b[0m\n\u001b[0;32m----> 6\u001b[0;31m \u001b[0mdataframe\u001b[0m \u001b[0;34m=\u001b[0m \u001b[0mread_csv\u001b[0m\u001b[0;34m(\u001b[0m\u001b[0mpath\u001b[0m\u001b[0;34m,\u001b[0m \u001b[0mnames\u001b[0m\u001b[0;34m=\u001b[0m\u001b[0mnames\u001b[0m\u001b[0;34m)\u001b[0m\u001b[0;34m\u001b[0m\u001b[0;34m\u001b[0m\u001b[0m\n\u001b[0m\u001b[1;32m      7\u001b[0m \u001b[0marray\u001b[0m \u001b[0;34m=\u001b[0m \u001b[0mdataframe\u001b[0m\u001b[0;34m.\u001b[0m\u001b[0mvalues\u001b[0m\u001b[0;34m\u001b[0m\u001b[0;34m\u001b[0m\u001b[0m\n",
            "\u001b[0;32m/usr/local/lib/python3.11/dist-packages/pandas/io/parsers/readers.py\u001b[0m in \u001b[0;36mread_csv\u001b[0;34m(filepath_or_buffer, sep, delimiter, header, names, index_col, usecols, dtype, engine, converters, true_values, false_values, skipinitialspace, skiprows, skipfooter, nrows, na_values, keep_default_na, na_filter, verbose, skip_blank_lines, parse_dates, infer_datetime_format, keep_date_col, date_parser, date_format, dayfirst, cache_dates, iterator, chunksize, compression, thousands, decimal, lineterminator, quotechar, quoting, doublequote, escapechar, comment, encoding, encoding_errors, dialect, on_bad_lines, delim_whitespace, low_memory, memory_map, float_precision, storage_options, dtype_backend)\u001b[0m\n\u001b[1;32m   1024\u001b[0m     \u001b[0mkwds\u001b[0m\u001b[0;34m.\u001b[0m\u001b[0mupdate\u001b[0m\u001b[0;34m(\u001b[0m\u001b[0mkwds_defaults\u001b[0m\u001b[0;34m)\u001b[0m\u001b[0;34m\u001b[0m\u001b[0;34m\u001b[0m\u001b[0m\n\u001b[1;32m   1025\u001b[0m \u001b[0;34m\u001b[0m\u001b[0m\n\u001b[0;32m-> 1026\u001b[0;31m     \u001b[0;32mreturn\u001b[0m \u001b[0m_read\u001b[0m\u001b[0;34m(\u001b[0m\u001b[0mfilepath_or_buffer\u001b[0m\u001b[0;34m,\u001b[0m \u001b[0mkwds\u001b[0m\u001b[0;34m)\u001b[0m\u001b[0;34m\u001b[0m\u001b[0;34m\u001b[0m\u001b[0m\n\u001b[0m\u001b[1;32m   1027\u001b[0m \u001b[0;34m\u001b[0m\u001b[0m\n\u001b[1;32m   1028\u001b[0m \u001b[0;34m\u001b[0m\u001b[0m\n",
            "\u001b[0;32m/usr/local/lib/python3.11/dist-packages/pandas/io/parsers/readers.py\u001b[0m in \u001b[0;36m_read\u001b[0;34m(filepath_or_buffer, kwds)\u001b[0m\n\u001b[1;32m    618\u001b[0m \u001b[0;34m\u001b[0m\u001b[0m\n\u001b[1;32m    619\u001b[0m     \u001b[0;31m# Create the parser.\u001b[0m\u001b[0;34m\u001b[0m\u001b[0;34m\u001b[0m\u001b[0m\n\u001b[0;32m--> 620\u001b[0;31m     \u001b[0mparser\u001b[0m \u001b[0;34m=\u001b[0m \u001b[0mTextFileReader\u001b[0m\u001b[0;34m(\u001b[0m\u001b[0mfilepath_or_buffer\u001b[0m\u001b[0;34m,\u001b[0m \u001b[0;34m**\u001b[0m\u001b[0mkwds\u001b[0m\u001b[0;34m)\u001b[0m\u001b[0;34m\u001b[0m\u001b[0;34m\u001b[0m\u001b[0m\n\u001b[0m\u001b[1;32m    621\u001b[0m \u001b[0;34m\u001b[0m\u001b[0m\n\u001b[1;32m    622\u001b[0m     \u001b[0;32mif\u001b[0m \u001b[0mchunksize\u001b[0m \u001b[0;32mor\u001b[0m \u001b[0miterator\u001b[0m\u001b[0;34m:\u001b[0m\u001b[0;34m\u001b[0m\u001b[0;34m\u001b[0m\u001b[0m\n",
            "\u001b[0;32m/usr/local/lib/python3.11/dist-packages/pandas/io/parsers/readers.py\u001b[0m in \u001b[0;36m__init__\u001b[0;34m(self, f, engine, **kwds)\u001b[0m\n\u001b[1;32m   1618\u001b[0m \u001b[0;34m\u001b[0m\u001b[0m\n\u001b[1;32m   1619\u001b[0m         \u001b[0mself\u001b[0m\u001b[0;34m.\u001b[0m\u001b[0mhandles\u001b[0m\u001b[0;34m:\u001b[0m \u001b[0mIOHandles\u001b[0m \u001b[0;34m|\u001b[0m \u001b[0;32mNone\u001b[0m \u001b[0;34m=\u001b[0m \u001b[0;32mNone\u001b[0m\u001b[0;34m\u001b[0m\u001b[0;34m\u001b[0m\u001b[0m\n\u001b[0;32m-> 1620\u001b[0;31m         \u001b[0mself\u001b[0m\u001b[0;34m.\u001b[0m\u001b[0m_engine\u001b[0m \u001b[0;34m=\u001b[0m \u001b[0mself\u001b[0m\u001b[0;34m.\u001b[0m\u001b[0m_make_engine\u001b[0m\u001b[0;34m(\u001b[0m\u001b[0mf\u001b[0m\u001b[0;34m,\u001b[0m \u001b[0mself\u001b[0m\u001b[0;34m.\u001b[0m\u001b[0mengine\u001b[0m\u001b[0;34m)\u001b[0m\u001b[0;34m\u001b[0m\u001b[0;34m\u001b[0m\u001b[0m\n\u001b[0m\u001b[1;32m   1621\u001b[0m \u001b[0;34m\u001b[0m\u001b[0m\n\u001b[1;32m   1622\u001b[0m     \u001b[0;32mdef\u001b[0m \u001b[0mclose\u001b[0m\u001b[0;34m(\u001b[0m\u001b[0mself\u001b[0m\u001b[0;34m)\u001b[0m \u001b[0;34m->\u001b[0m \u001b[0;32mNone\u001b[0m\u001b[0;34m:\u001b[0m\u001b[0;34m\u001b[0m\u001b[0;34m\u001b[0m\u001b[0m\n",
            "\u001b[0;32m/usr/local/lib/python3.11/dist-packages/pandas/io/parsers/readers.py\u001b[0m in \u001b[0;36m_make_engine\u001b[0;34m(self, f, engine)\u001b[0m\n\u001b[1;32m   1878\u001b[0m                 \u001b[0;32mif\u001b[0m \u001b[0;34m\"b\"\u001b[0m \u001b[0;32mnot\u001b[0m \u001b[0;32min\u001b[0m \u001b[0mmode\u001b[0m\u001b[0;34m:\u001b[0m\u001b[0;34m\u001b[0m\u001b[0;34m\u001b[0m\u001b[0m\n\u001b[1;32m   1879\u001b[0m                     \u001b[0mmode\u001b[0m \u001b[0;34m+=\u001b[0m \u001b[0;34m\"b\"\u001b[0m\u001b[0;34m\u001b[0m\u001b[0;34m\u001b[0m\u001b[0m\n\u001b[0;32m-> 1880\u001b[0;31m             self.handles = get_handle(\n\u001b[0m\u001b[1;32m   1881\u001b[0m                 \u001b[0mf\u001b[0m\u001b[0;34m,\u001b[0m\u001b[0;34m\u001b[0m\u001b[0;34m\u001b[0m\u001b[0m\n\u001b[1;32m   1882\u001b[0m                 \u001b[0mmode\u001b[0m\u001b[0;34m,\u001b[0m\u001b[0;34m\u001b[0m\u001b[0;34m\u001b[0m\u001b[0m\n",
            "\u001b[0;32m/usr/local/lib/python3.11/dist-packages/pandas/io/common.py\u001b[0m in \u001b[0;36mget_handle\u001b[0;34m(path_or_buf, mode, encoding, compression, memory_map, is_text, errors, storage_options)\u001b[0m\n\u001b[1;32m    871\u001b[0m         \u001b[0;32mif\u001b[0m \u001b[0mioargs\u001b[0m\u001b[0;34m.\u001b[0m\u001b[0mencoding\u001b[0m \u001b[0;32mand\u001b[0m \u001b[0;34m\"b\"\u001b[0m \u001b[0;32mnot\u001b[0m \u001b[0;32min\u001b[0m \u001b[0mioargs\u001b[0m\u001b[0;34m.\u001b[0m\u001b[0mmode\u001b[0m\u001b[0;34m:\u001b[0m\u001b[0;34m\u001b[0m\u001b[0;34m\u001b[0m\u001b[0m\n\u001b[1;32m    872\u001b[0m             \u001b[0;31m# Encoding\u001b[0m\u001b[0;34m\u001b[0m\u001b[0;34m\u001b[0m\u001b[0m\n\u001b[0;32m--> 873\u001b[0;31m             handle = open(\n\u001b[0m\u001b[1;32m    874\u001b[0m                 \u001b[0mhandle\u001b[0m\u001b[0;34m,\u001b[0m\u001b[0;34m\u001b[0m\u001b[0;34m\u001b[0m\u001b[0m\n\u001b[1;32m    875\u001b[0m                 \u001b[0mioargs\u001b[0m\u001b[0;34m.\u001b[0m\u001b[0mmode\u001b[0m\u001b[0;34m,\u001b[0m\u001b[0;34m\u001b[0m\u001b[0;34m\u001b[0m\u001b[0m\n",
            "\u001b[0;31mFileNotFoundError\u001b[0m: [Errno 2] No such file or directory: 'C:\\\\pima-indians-diabetes.csv'"
          ]
        }
      ]
    },
    {
      "cell_type": "code",
      "source": [
        "a={    'TransactionID': [111, 222, 333, 444, 555],\n",
        "    'CustomerID': [428, 429, 430, 431, 432],\n",
        "    'Amount': [345, 3456, 486, 584, 685],\n",
        "    'Date': ['25-10-01', '25-10-02', '25-10-03', '25-10-04', '25-10-05']\n",
        "}\n",
        "b= {\n",
        "    'CustomerID': [101, 102, 103, 104],\n",
        "    'CustomerName': ['Alice', 'Bobby', 'Chahal', 'David'],\n",
        "    'Age': [30, 35, 40, 25],\n",
        "    'City': ['New York', 'Los Angeles', 'Chicago', 'Houston']\n",
        "}\n",
        "d = pd.DataFrame(a)\n",
        "c = pd.DataFrame(b)\n",
        "print(\"Sales DataFrame:\")\n",
        "print(d.head())"
      ],
      "metadata": {
        "colab": {
          "base_uri": "https://localhost:8080/"
        },
        "id": "JPDUtRQiJBte",
        "outputId": "f2359ecb-6ebf-40aa-d95f-6da96f07061a"
      },
      "execution_count": null,
      "outputs": [
        {
          "output_type": "stream",
          "name": "stdout",
          "text": [
            "Sales DataFrame:\n",
            "   TransactionID  CustomerID  Amount      Date\n",
            "0            111         428     345  25-10-01\n",
            "1            222         429    3456  25-10-02\n",
            "2            333         430     486  25-10-03\n",
            "3            444         431     584  25-10-04\n",
            "4            555         432     685  25-10-05\n"
          ]
        }
      ]
    },
    {
      "cell_type": "code",
      "source": [
        "print(\"\\nShape of sales data:\", d.shape)"
      ],
      "metadata": {
        "colab": {
          "base_uri": "https://localhost:8080/"
        },
        "id": "nVjBJOn5JYzw",
        "outputId": "e23b57d1-88ba-4225-d8f7-01a0b8af1698"
      },
      "execution_count": null,
      "outputs": [
        {
          "output_type": "stream",
          "name": "stdout",
          "text": [
            "\n",
            "Shape of sales data: (5, 4)\n"
          ]
        }
      ]
    },
    {
      "cell_type": "code",
      "source": [
        "print(\"\\nSales data statistics:\")\n",
        "print(d.describe())\n"
      ],
      "metadata": {
        "colab": {
          "base_uri": "https://localhost:8080/"
        },
        "id": "GTppw8e-JZ_Y",
        "outputId": "68224722-305e-434b-9e5f-2f4aedeb150f"
      },
      "execution_count": null,
      "outputs": [
        {
          "output_type": "stream",
          "name": "stdout",
          "text": [
            "\n",
            "Sales data statistics:\n",
            "       TransactionID  CustomerID       Amount\n",
            "count        5.00000    5.000000     5.000000\n",
            "mean       333.00000  430.000000  1111.200000\n",
            "std        175.50641    1.581139  1316.777392\n",
            "min        111.00000  428.000000   345.000000\n",
            "25%        222.00000  429.000000   486.000000\n",
            "50%        333.00000  430.000000   584.000000\n",
            "75%        444.00000  431.000000   685.000000\n",
            "max        555.00000  432.000000  3456.000000\n"
          ]
        }
      ]
    },
    {
      "cell_type": "code",
      "source": [
        "print(\"Sales dataframe\",d)\n",
        "print(\"customers_df\",c)"
      ],
      "metadata": {
        "colab": {
          "base_uri": "https://localhost:8080/"
        },
        "id": "2ukw-RhGJdjf",
        "outputId": "2ef128e4-88ce-466a-eff2-aa621444df81"
      },
      "execution_count": null,
      "outputs": [
        {
          "output_type": "stream",
          "name": "stdout",
          "text": [
            "Sales dataframe    TransactionID  CustomerID  Amount      Date\n",
            "0            111         428     345  25-10-01\n",
            "1            222         429    3456  25-10-02\n",
            "2            333         430     486  25-10-03\n",
            "3            444         431     584  25-10-04\n",
            "4            555         432     685  25-10-05\n",
            "customers_df    CustomerID CustomerName  Age         City\n",
            "0         101        Alice   30     New York\n",
            "1         102        Bobby   35  Los Angeles\n",
            "2         103       Chahal   40      Chicago\n",
            "3         104        David   25      Houston\n"
          ]
        }
      ]
    },
    {
      "cell_type": "code",
      "source": [
        "g=pd.merge(d,c,on=\"CustomerID\",how='inner')\n",
        "print(\"\\nMerged DataFrame:\")\n",
        "print(g)"
      ],
      "metadata": {
        "colab": {
          "base_uri": "https://localhost:8080/"
        },
        "id": "AQXk-wkGK9nQ",
        "outputId": "5949bbce-bff1-4fb8-f027-c8528b56e2c7"
      },
      "execution_count": null,
      "outputs": [
        {
          "output_type": "stream",
          "name": "stdout",
          "text": [
            "\n",
            "Merged DataFrame:\n",
            "Empty DataFrame\n",
            "Columns: [TransactionID, CustomerID, Amount, Date, CustomerName, Age, City]\n",
            "Index: []\n"
          ]
        }
      ]
    },
    {
      "cell_type": "code",
      "source": [
        "g=pd.merge(d,c,on=\"CustomerID\",how='outer')\n",
        "print(\"\\nMerged DataFrame:\")\n",
        "print(g)"
      ],
      "metadata": {
        "colab": {
          "base_uri": "https://localhost:8080/"
        },
        "id": "7mhWGox5MOiy",
        "outputId": "c2939bfd-1a26-475b-d327-4d1e45260468"
      },
      "execution_count": null,
      "outputs": [
        {
          "output_type": "stream",
          "name": "stdout",
          "text": [
            "\n",
            "Merged DataFrame:\n",
            "   TransactionID  CustomerID  Amount      Date CustomerName   Age         City\n",
            "0            NaN         101     NaN       NaN        Alice  30.0     New York\n",
            "1            NaN         102     NaN       NaN        Bobby  35.0  Los Angeles\n",
            "2            NaN         103     NaN       NaN       Chahal  40.0      Chicago\n",
            "3            NaN         104     NaN       NaN        David  25.0      Houston\n",
            "4          111.0         428   345.0  25-10-01          NaN   NaN          NaN\n",
            "5          222.0         429  3456.0  25-10-02          NaN   NaN          NaN\n",
            "6          333.0         430   486.0  25-10-03          NaN   NaN          NaN\n",
            "7          444.0         431   584.0  25-10-04          NaN   NaN          NaN\n",
            "8          555.0         432   685.0  25-10-05          NaN   NaN          NaN\n"
          ]
        }
      ]
    },
    {
      "cell_type": "code",
      "source": [
        "g=pd.merge(d,c,on=\"CustomerID\",how='outer')\n",
        "g=pd.merge(d,c,on=\"CustomerID\",how='right')\n",
        "g=pd.merge(d,c,on=\"CustomerID\",how='left')\n",
        "\n",
        "print(\"\\nMerged DataFrame:\")\n",
        "print(g)"
      ],
      "metadata": {
        "colab": {
          "base_uri": "https://localhost:8080/"
        },
        "id": "zOJVIL35Mdkc",
        "outputId": "529e1061-e737-44cd-892c-17af507d2edf"
      },
      "execution_count": null,
      "outputs": [
        {
          "output_type": "stream",
          "name": "stdout",
          "text": [
            "\n",
            "Merged DataFrame:\n",
            "   TransactionID  CustomerID  Amount      Date CustomerName  Age City\n",
            "0            111         428     345  25-10-01          NaN  NaN  NaN\n",
            "1            222         429    3456  25-10-02          NaN  NaN  NaN\n",
            "2            333         430     486  25-10-03          NaN  NaN  NaN\n",
            "3            444         431     584  25-10-04          NaN  NaN  NaN\n",
            "4            555         432     685  25-10-05          NaN  NaN  NaN\n"
          ]
        }
      ]
    },
    {
      "cell_type": "code",
      "source": [
        "print(\"\\nAccess data using 'loc' (row 1):\")\n",
        "print(g.loc[1])\n",
        "print(\"\\nAccess data using 'loc' (row 2):\")\n",
        "print(g.iloc[2])"
      ],
      "metadata": {
        "colab": {
          "base_uri": "https://localhost:8080/"
        },
        "id": "W6ZeIjvbM9an",
        "outputId": "30759585-bc07-490e-ff75-551ba67d2d0b"
      },
      "execution_count": null,
      "outputs": [
        {
          "output_type": "stream",
          "name": "stdout",
          "text": [
            "\n",
            "Access data using 'loc' (row 1):\n",
            "TransactionID         222\n",
            "CustomerID            429\n",
            "Amount               3456\n",
            "Date             25-10-02\n",
            "CustomerName          NaN\n",
            "Age                   NaN\n",
            "City                  NaN\n",
            "Name: 1, dtype: object\n",
            "\n",
            "Access data using 'loc' (row 2):\n",
            "TransactionID         333\n",
            "CustomerID            430\n",
            "Amount                486\n",
            "Date             25-10-03\n",
            "CustomerName          NaN\n",
            "Age                   NaN\n",
            "City                  NaN\n",
            "Name: 2, dtype: object\n"
          ]
        }
      ]
    },
    {
      "cell_type": "code",
      "source": [
        "import matplotlib.pyplot as plt\n",
        "import numpy as np\n",
        "\n",
        "# Simulate data: Random ages of 1000 cancer patients (assume age between 20 and 80)\n",
        "np.random.seed(42)  # For reproducibility\n",
        "data = np.random.randint(20, 81, 1000)  # Generate 1000 random ages between 20 and 80\n",
        "\n",
        "# Create a histogram\n",
        "plt.hist(data, bins=15, edgecolor='black', color='skyblue')\n",
        "\n",
        "# Set the title and labels for the plot\n",
        "plt.title('Histogram of Cancer Patients Age Distribution')\n",
        "plt.xlabel('Age')\n",
        "plt.ylabel('Number of Patients')\n",
        "\n",
        "# Show the plot\n",
        "plt.show()"
      ],
      "metadata": {
        "colab": {
          "base_uri": "https://localhost:8080/",
          "height": 472
        },
        "id": "JjSUvykxwD8t",
        "outputId": "f485753e-3ac9-4840-e1fe-7fbc644733a1"
      },
      "execution_count": null,
      "outputs": [
        {
          "output_type": "display_data",
          "data": {
            "text/plain": [
              "<Figure size 640x480 with 1 Axes>"
            ],
            "image/png": "[encoded data removed]"
          },
          "metadata": {}
        }
      ]
    },
    {
      "cell_type": "code",
      "source": [
        "import pandas as pd\n",
        "data=[5,5,7,9,10,11,14,16,16,11,13,13]\n",
        "plt.hist(data,bins=20,edgecolor='black')\n",
        "plt.title(\"SIMPLE HISTGRAM EXAMPLE\")\n",
        "plt.xlabel(\"Numbers\")\n",
        "plt.ylabel(\"count\")\n",
        "plt.show()"
      ],
      "metadata": {
        "colab": {
          "base_uri": "https://localhost:8080/",
          "height": 472
        },
        "id": "JLlfBwiTz65_",
        "outputId": "fe517fe5-4e98-4901-a3a8-c9cb902ce057"
      },
      "execution_count": null,
      "outputs": [
        {
          "output_type": "display_data",
          "data": {
            "text/plain": [
              "<Figure size 640x480 with 1 Axes>"
            ],
            "image/png": "[encoded data removed]"
          },
          "metadata": {}
        }
      ]
    },
    {
      "cell_type": "code",
      "source": [
        "import pandas as pd\n",
        "import matplotlib.pyplot as plt\n",
        "import seaborn as sns\n",
        "datf=pd.DataFrame({\"Season 1\": [4,6,7,7,8,7],\n",
        "                   \"Season 2\": [5,7,5,7,3,5]})\n",
        "p=sns.histplot(data =datf)\n",
        "p.set(xlabel=\"X Label Value \", ylabel=\"Y Label Value\")\n",
        "plt.show()"
      ],
      "metadata": {
        "colab": {
          "base_uri": "https://localhost:8080/",
          "height": 449
        },
        "id": "UQbcjPEF1cr7",
        "outputId": "4c02fc0e-8ad2-4af1-a7f6-8a06429b4f88"
      },
      "execution_count": null,
      "outputs": [
        {
          "output_type": "display_data",
          "data": {
            "text/plain": [
              "<Figure size 640x480 with 1 Axes>"
            ],
            "image/png": "[encoded data removed]"
          },
          "metadata": {}
        }
      ]
    },
    {
      "cell_type": "code",
      "source": [
        "import matplotlib.pyplot as plt\n",
        "import numpy as np\n",
        "np.random.seed(100)\n",
        "data=np.random.randint(200,800,2000)\n",
        "plt.hist(data,bins=30,edgecolor=\"blue\",color=\"yellow\")\n",
        "plt.title(\"HISTGRAM OF CANCER PATIENTS AGE DISTRIDUTION\")\n",
        "plt.xlabel(\"AGE\")\n",
        "plt.ylabel(\"NUMBER OF PATIENTS\")\n",
        "plt.show()"
      ],
      "metadata": {
        "colab": {
          "base_uri": "https://localhost:8080/",
          "height": 472
        },
        "id": "71Icxgi_3a4D",
        "outputId": "1ab37164-330b-4b29-ca90-f9771fcbe9e5"
      },
      "execution_count": null,
      "outputs": [
        {
          "output_type": "display_data",
          "data": {
            "text/plain": [
              "<Figure size 640x480 with 1 Axes>"
            ],
            "image/png": "[encoded data removed]"
          },
          "metadata": {}
        }
      ]
    },
    {
      "cell_type": "code",
      "source": [
        "import pandas as pd\n",
        "import numpy as np\n",
        "data={\n",
        "    'square_feet_area':[8500,9600,np.nan,11250,np.nan,9550,1423,np.nan,1384,11500],\n",
        "    'year_built':[2003,1976,2001,np.nan,1998,2000,2006,1978,1950,np.nan],\n",
        "    'over_all_condition':[5,8,6,7,np.nan,7,2,3,4,5],\n",
        "    'ready_to_move':['yes','no','no',np.nan,'no',np.nan,'no','yes','no','yes'],\n",
        "    'sale_price':[2000000,1800000,2150000,250000,2100000,210000000,98000000,3299999,23424,14456]\n",
        "}\n",
        "df=pd.DataFrame(data)\n",
        "print(\"original DataFrame:\")\n",
        "print(df)\n",
        "print(df.isnull().sum)\n"
      ],
      "metadata": {
        "colab": {
          "base_uri": "https://localhost:8080/"
        },
        "id": "DJrNbFJZ24CY",
        "outputId": "3fb56f4d-ea6b-4a87-e1e0-ebeca3357155"
      },
      "execution_count": null,
      "outputs": [
        {
          "output_type": "stream",
          "name": "stdout",
          "text": [
            "original DataFrame:\n",
            "   square_feet_area  year_built  over_all_condition ready_to_move  sale_price\n",
            "0            8500.0      2003.0                 5.0           yes     2000000\n",
            "1            9600.0      1976.0                 8.0            no     1800000\n",
            "2               NaN      2001.0                 6.0            no     2150000\n",
            "3           11250.0         NaN                 7.0           NaN      250000\n",
            "4               NaN      1998.0                 NaN            no     2100000\n",
            "5            9550.0      2000.0                 7.0           NaN   210000000\n",
            "6            1423.0      2006.0                 2.0            no    98000000\n",
            "7               NaN      1978.0                 3.0           yes     3299999\n",
            "8            1384.0      1950.0                 4.0            no       23424\n",
            "9           11500.0         NaN                 5.0           yes       14456\n",
            "<bound method DataFrame.sum of    square_feet_area  year_built  over_all_condition  ready_to_move  sale_price\n",
            "0             False       False               False          False       False\n",
            "1             False       False               False          False       False\n",
            "2              True       False               False          False       False\n",
            "3             False        True               False           True       False\n",
            "4              True       False                True          False       False\n",
            "5             False       False               False           True       False\n",
            "6             False       False               False          False       False\n",
            "7              True       False               False          False       False\n",
            "8             False       False               False          False       False\n",
            "9             False        True               False          False       False>\n"
          ]
        }
      ]
    },
    {
      "cell_type": "code",
      "source": [
        "numeric_imputer=SimpleImputer(strategy='mean')\n",
        "df[['square_feet_srea','year_built','over_al_condition']]=numeric_imputer.fit_transform(\n",
        "    df[['square_feet_srea','year_built','over_al_condition']]\n",
        ")\n",
        "categorical_imputer=SimpleImputer(strategy='most_frequent')\n",
        "df[['ready_to_move']]=categorical_imputer.fit_transform(df[['ready_to_move']])\n",
        "print(\"\\nDataFrame after replacing missing values with simpleImputer(mean for numeric,mode for categorical):\")\n",
        "print(df)\n"
      ],
      "metadata": {
        "colab": {
          "base_uri": "https://localhost:8080/",
          "height": 222
        },
        "id": "bPIoC_F_-u9i",
        "outputId": "31e480b4-9bf2-4db2-ee88-0c41ca520a14"
      },
      "execution_count": null,
      "outputs": [
        {
          "output_type": "error",
          "ename": "NameError",
          "evalue": "name 'SimpleImputer' is not defined",
          "traceback": [
            "\u001b[0;31m---------------------------------------------------------------------------\u001b[0m",
            "\u001b[0;31mNameError\u001b[0m                                 Traceback (most recent call last)",
            "\u001b[0;32m<ipython-input-1-b1029f5e28fd>\u001b[0m in \u001b[0;36m<cell line: 0>\u001b[0;34m()\u001b[0m\n\u001b[0;32m----> 1\u001b[0;31m \u001b[0mnumeric_imputer\u001b[0m\u001b[0;34m=\u001b[0m\u001b[0mSimpleImputer\u001b[0m\u001b[0;34m(\u001b[0m\u001b[0mstrategy\u001b[0m\u001b[0;34m=\u001b[0m\u001b[0;34m'mean'\u001b[0m\u001b[0;34m)\u001b[0m\u001b[0;34m\u001b[0m\u001b[0;34m\u001b[0m\u001b[0m\n\u001b[0m\u001b[1;32m      2\u001b[0m df[['square_feet_srea','year_built','over_al_condition']]=numeric_imputer.fit_transform(\n\u001b[1;32m      3\u001b[0m     \u001b[0mdf\u001b[0m\u001b[0;34m[\u001b[0m\u001b[0;34m[\u001b[0m\u001b[0;34m'square_feet_srea'\u001b[0m\u001b[0;34m,\u001b[0m\u001b[0;34m'year_built'\u001b[0m\u001b[0;34m,\u001b[0m\u001b[0;34m'over_al_condition'\u001b[0m\u001b[0;34m]\u001b[0m\u001b[0;34m]\u001b[0m\u001b[0;34m\u001b[0m\u001b[0;34m\u001b[0m\u001b[0m\n\u001b[1;32m      4\u001b[0m )\n\u001b[1;32m      5\u001b[0m \u001b[0mcategorical_imputer\u001b[0m\u001b[0;34m=\u001b[0m\u001b[0mSimpleImputer\u001b[0m\u001b[0;34m(\u001b[0m\u001b[0mstrategy\u001b[0m\u001b[0;34m=\u001b[0m\u001b[0;34m'most_frequent'\u001b[0m\u001b[0;34m)\u001b[0m\u001b[0;34m\u001b[0m\u001b[0;34m\u001b[0m\u001b[0m\n",
            "\u001b[0;31mNameError\u001b[0m: name 'SimpleImputer' is not defined"
          ]
        }
      ]
    },
    {
      "cell_type": "code",
      "source": [
        "import pandas as pd\n",
        "import matplotlib.pyplot as plt\n",
        "import seaborn as sns\n",
        "import numpy as np\n",
        "np.random.seed(200)\n",
        "a=pd.DataFrame({\n",
        "    'value': np.concatenate([np.random.normal(0,10,100),np.random.normal(10,1,100)])\n",
        "\n",
        "})\n",
        "b=a['value'].quantile(0.75)\n",
        "c=a['value'].quantile(0.05)\n",
        "d=c-b\n",
        "lower_bound=b-2.5*d\n",
        "upper_bound=c-2.5*d\n",
        "outliers=a[(a['value']<lower_bound) | (a['value'] > upper_bound)]\n",
        "print(outliers)"
      ],
      "metadata": {
        "colab": {
          "base_uri": "https://localhost:8080/"
        },
        "id": "YqNs-K0A3ZIR",
        "outputId": "01e44edb-63bb-487b-a6c9-3b9b4cdcc240"
      },
      "execution_count": null,
      "outputs": [
        {
          "output_type": "stream",
          "name": "stdout",
          "text": [
            "         value\n",
            "0   -14.509482\n",
            "1    19.109531\n",
            "2     7.118792\n",
            "3    -2.477383\n",
            "4     3.614662\n",
            "..         ...\n",
            "195   9.953325\n",
            "196  11.922738\n",
            "197   8.235016\n",
            "198  10.592060\n",
            "199  11.905776\n",
            "\n",
            "[200 rows x 1 columns]\n"
          ]
        }
      ]
    },
    {
      "cell_type": "code",
      "source": [
        "'''day-1'''\n",
        "a= 10 #int\n",
        "b= 3.14   #float\n",
        "c= \"Hello, World!\" #string\n",
        "d = True  #boolean\n",
        "print(type(a))\n",
        "print(type(b))\n",
        "print(type(c))\n",
        "print(type(d))\n"
      ],
      "metadata": {
        "id": "jqK92MrK8H86",
        "colab": {
          "base_uri": "https://localhost:8080/"
        },
        "outputId": "f1c43850-e9ee-4a89-dee2-04cb0a20be74"
      },
      "execution_count": null,
      "outputs": [
        {
          "output_type": "stream",
          "name": "stdout",
          "text": [
            "<class 'int'>\n",
            "<class 'float'>\n",
            "<class 'str'>\n",
            "<class 'bool'>\n"
          ]
        }
      ]
    },
    {
      "cell_type": "code",
      "source": [
        "import pandas as pd\n",
        "import numpy as np\n",
        "from sklearn.preprocessing import StandardScaler\n",
        "'''A=list(input())\n",
        "B=list(input())\n",
        "C=list(input())'''\n",
        "a={\"age\": [23,45,63,25],\n",
        "   \"height\": [123,124,134,153],\n",
        "   \"weigth\": [54,64,74,53]\n",
        "}\n",
        "df=pd.DataFrame(a)\n",
        "print(\"Original DataFrame\")\n",
        "print(df)\n",
        "AA=StandardScaler()\n",
        "norm=AA.fit_transform(df)\n",
        "normal=pd.DataFrame(norm,columns=df.columns)\n",
        "print(\"\\nNormalized DataFrame:\")\n",
        "print(normal)\n",
        "\n",
        "\n"
      ],
      "metadata": {
        "colab": {
          "base_uri": "https://localhost:8080/"
        },
        "id": "sEQirvkM6_Ss",
        "outputId": "247478c0-aef8-4a51-b630-0888eb1bf611"
      },
      "execution_count": null,
      "outputs": [
        {
          "output_type": "stream",
          "name": "stdout",
          "text": [
            "Original DataFrame\n",
            "   age  height  weigth\n",
            "0   23     123      54\n",
            "1   45     124      64\n",
            "2   63     134      74\n",
            "3   25     153      53\n",
            "\n",
            "Normalized DataFrame:\n",
            "    age    height    weigth\n",
            "0  0.00  0.000000  0.047619\n",
            "1  0.55  0.033333  0.523810\n",
            "2  1.00  0.366667  1.000000\n",
            "3  0.05  1.000000  0.000000\n"
          ]
        }
      ]
    },
    {
      "cell_type": "code",
      "source": [
        "import pandas as pd\n",
        "import numpy as np\n",
        "from sklearn.preprocessing import MinMaxScaler\n",
        "A=list(input())\n",
        "B=list(input())\n",
        "C=list(input())\n",
        "a={\"age\": A,\n",
        "   \"height\": B,\n",
        "   \"weigth\": C\n",
        "}\n",
        "print(a)"
      ],
      "metadata": {
        "id": "TuqNPqWs6AyT",
        "colab": {
          "base_uri": "https://localhost:8080/"
        },
        "outputId": "87922670-45d1-4dc7-b051-5c74436ce104"
      },
      "execution_count": null,
      "outputs": [
        {
          "output_type": "stream",
          "name": "stdout",
          "text": [
            "3,5,6,4\n",
            "4,64,64,24\n",
            "45,63,63,53\n",
            "{'age': ['3', ',', '5', ',', '6', ',', '4'], 'height': ['4', ',', '6', '4', ',', '6', '4', ',', '2', '4'], 'weigth': ['4', '5', ',', '6', '3', ',', '6', '3', ',', '5', '3']}\n"
          ]
        }
      ]
    },
    {
      "cell_type": "code",
      "source": [
        "import pandas as pd\n",
        "import numpy as np\n",
        "from sklearn.preprocessing import StandardScaler\n",
        "'''A=list(input())\n",
        "B=list(input())\n",
        "C=list(input())'''\n",
        "a={\"age\": [23,45,63,25],\n",
        "   \"height\": [123,124,134,153],\n",
        "   \"weigth\": [54,64,74,53]\n",
        "}\n",
        "df=pd.DataFrame(a)\n",
        "print(\"Original DataFrame\")\n",
        "print(df)\n",
        "AA=StandardScaler()\n",
        "norm=AA.fit_transform(df)\n",
        "normal=pd.DataFrame(norm,columns=df.columns)\n",
        "print(\"\\nNormalized DataFrame:\")\n",
        "print(normal)\n",
        "\n",
        "\n"
      ],
      "metadata": {
        "id": "Xx2aAVZNIlVQ",
        "colab": {
          "base_uri": "https://localhost:8080/"
        },
        "outputId": "62944465-6be3-4427-fab7-6da97d0d31ac"
      },
      "execution_count": 1,
      "outputs": [
        {
          "output_type": "stream",
          "name": "stdout",
          "text": [
            "Original DataFrame\n",
            "   age  height  weigth\n",
            "0   23     123      54\n",
            "1   45     124      64\n",
            "2   63     134      74\n",
            "3   25     153      53\n",
            "\n",
            "Normalized DataFrame:\n",
            "        age    height    weigth\n",
            "0 -0.981023 -0.871227 -0.850370\n",
            "1  0.367884 -0.788253  0.322554\n",
            "2  1.471534  0.041487  1.495479\n",
            "3 -0.858395  1.617993 -0.967663\n"
          ]
        }
      ]
    }
  ]
}