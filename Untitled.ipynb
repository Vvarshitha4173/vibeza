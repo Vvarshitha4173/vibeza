{
 "cells": [
  {
   "cell_type": "code",
   "execution_count": 13,
   "id": "3c43db8a-4370-46b4-b9a9-139fc61e8159",
   "metadata": {},
   "outputs": [
    {
     "data": {
      "text/plain": [
       "0     10\n",
       "1     13\n",
       "2    423\n",
       "3    755\n",
       "4     85\n",
       "dtype: int64"
      ]
     },
     "execution_count": 13,
     "metadata": {},
     "output_type": "execute_result"
    }
   ],
   "source": [
    " import pandas as pd\n",
    "a=pd.Series([10,13,423,755,85])\n",
    "a"
   ]
  },
  {
   "cell_type": "code",
   "execution_count": 18,
   "id": "860f40f6-fbc9-4e8a-a418-386695a662e1",
   "metadata": {},
   "outputs": [
    {
     "data": {
      "text/plain": [
       "104758738793898357"
      ]
     },
     "execution_count": 18,
     "metadata": {},
     "output_type": "execute_result"
    }
   ],
   "source": [
    "#jisnjvbvdfnj\n",
    "'''sdnsgninjdsiug\n",
    "dmgjdnksnfn'''\n",
    "a= 104758738793898357\n",
    "a"
   ]
  },
  {
   "cell_type": "code",
   "execution_count": 36,
   "id": "3ae8340e-5c1d-40f8-97bc-fa6d10e26afa",
   "metadata": {},
   "outputs": [
    {
     "name": "stdin",
     "output_type": "stream",
     "text": [
      "Enter the number: 1223\n"
     ]
    },
    {
     "name": "stdout",
     "output_type": "stream",
     "text": [
      "ram 45 7.6 True\n",
      "ram\n",
      "45\n",
      "7.6\n",
      "True\n"
     ]
    }
   ],
   "source": [
    "a=\"ram\"\n",
    "b=45\n",
    "ht=7.6\n",
    "Student=True\n",
    "c=int(input(\"Enter the number:\"))\n",
    "print(a,b,ht,Student)\n",
    "print(a)\n",
    "print(b)\n",
    "print(ht)\n",
    "print(Student)"
   ]
  },
  {
   "cell_type": "code",
   "execution_count": 42,
   "id": "bf94780b-60e3-4534-b6e5-a05c19bc108d",
   "metadata": {},
   "outputs": [
    {
     "name": "stdout",
     "output_type": "stream",
     "text": [
      "{'name': 'varshitha', 'age': 23, 'ht': 9.5, 'Student': True}\n"
     ]
    }
   ],
   "source": [
    "a={\"name\" : \"varshitha\" ,\"age\" :23 ,\"ht\":9.5,\"Student\":True}\n",
    "print(a)"
   ]
  },
  {
   "cell_type": "code",
   "execution_count": 17,
   "id": "8b97d8a8-7e02-42ae-8f9a-d442757dabad",
   "metadata": {},
   "outputs": [],
   "source": [
    "from pandas import read_csv\n",
    "from numpy import set_printoptions\n",
    "from sklearn import preprocessing\n",
    "path = r'C:\\pima-indians-diabetes.csv'\n",
    "names = ['preg', 'plas', 'pres', 'skin', 'test', 'mass', 'pedi', 'age', 'class']\n",
    "dataframe = read_csv(path, names=names)\n",
    "array = dataframe.values"
   ]
  },
  {
   "cell_type": "code",
   "execution_count": 11,
   "id": "b4212719-19be-4309-8fc0-d0e53a516cbd",
   "metadata": {},
   "outputs": [
    {
     "name": "stdout",
     "output_type": "stream",
     "text": [
      "[10, 30.0, 30, 30.0, 50]\n"
     ]
    }
   ],
   "source": [
    "def replace_missing_with_mean(numbers):\n",
    "    valid_numbers = [num for num in numbers if num is not None]\n",
    "    mean = sum(valid_numbers) / len(valid_numbers)\n",
    "    return [num if num is not None else mean for num in numbers]\n",
    "\n",
    "input_list = [10, None, 30, None, 50]\n",
    "print(replace_missing_with_mean(input_list))"
   ]
  },
  {
   "cell_type": "code",
   "execution_count": 13,
   "id": "3af4f381-3025-4069-a3f3-fb07d1c1d4d1",
   "metadata": {},
   "outputs": [
    {
     "name": "stdout",
     "output_type": "stream",
     "text": [
      "[0.0, 0.25, 0.5, 0.75, 1.0]\n"
     ]
    }
   ],
   "source": [
    "def min_max_scaling(numbers):\n",
    "    min_val = min(numbers)\n",
    "    max_val = max(numbers)\n",
    "    return [(x - min_val) / (max_val - min_val) for x in numbers]\n",
    "\n",
    "input_list = [20, 40, 60, 80, 100]\n",
    "print(min_max_scaling(input_list))"
   ]
  },
  {
   "cell_type": "code",
   "execution_count": 15,
   "id": "20fed7b6-1a32-4f58-8d38-b15950da6a8a",
   "metadata": {},
   "outputs": [
    {
     "name": "stdout",
     "output_type": "stream",
     "text": [
      "[0, 1, 0, 1]\n"
     ]
    }
   ],
   "source": [
    "def binarize_list(numbers, threshold):\n",
    "    return [1 if x >= threshold else 0 for x in numbers]\n",
    "\n",
    "input_list = [1.5, 2.3, 0.8, 3.0]\n",
    "threshold = 2.0\n",
    "print(binarize_list(input_list, threshold))\n"
   ]
  },
  {
   "cell_type": "code",
   "execution_count": 17,
   "id": "cc59c16f-bcb7-4e96-92a5-49c2ffce9476",
   "metadata": {},
   "outputs": [
    {
     "name": "stdout",
     "output_type": "stream",
     "text": [
      "[5, 7, 9]\n"
     ]
    }
   ],
   "source": [
    "def approximate_function(inputs):\n",
    "    return [2*x + 3 for x in inputs]\n",
    "\n",
    "inputs = [1, 2, 3]\n",
    "print(approximate_function(inputs))"
   ]
  },
  {
   "cell_type": "code",
   "execution_count": 19,
   "id": "9634744d-d895-4c12-973b-2a363595f0f6",
   "metadata": {},
   "outputs": [
    {
     "name": "stdout",
     "output_type": "stream",
     "text": [
      "[-1.3416407864998738, -0.4472135954999579, 0.4472135954999579, 1.3416407864998738]\n"
     ]
    }
   ],
   "source": [
    "def standardize_list(numbers):\n",
    "    mean = sum(numbers) / len(numbers)\n",
    "    std_dev = (sum([(x - mean)**2 for x in numbers]) / len(numbers))**0.5\n",
    "    return [(x - mean) / std_dev for x in numbers]\n",
    "\n",
    "input_list = [10, 20, 30, 40]\n",
    "print(standardize_list(input_list))"
   ]
  },
  {
   "cell_type": "code",
   "execution_count": 21,
   "id": "e1291646-9714-42e3-aaeb-ad60930d02af",
   "metadata": {},
   "outputs": [
    {
     "name": "stdout",
     "output_type": "stream",
     "text": [
      "Supervised Learning\n"
     ]
    }
   ],
   "source": [
    "def categorize_ml_task(description):\n",
    "    if \"predict\" in description.lower() or \"classify\" in description.lower():\n",
    "        return \"Supervised Learning\"\n",
    "    return \"Unsupervised Learning\"\n",
    "\n",
    "description = \"Predict the price of a house based on features like size, location, and age.\"\n",
    "print(categorize_ml_task(description))"
   ]
  },
  {
   "cell_type": "code",
   "execution_count": 23,
   "id": "f8599f1b-f9fc-4b37-9115-ae8d53fd2005",
   "metadata": {},
   "outputs": [
    {
     "name": "stdout",
     "output_type": "stream",
     "text": [
      "Unsupervised Learning\n"
     ]
    }
   ],
   "source": [
    "def categorize_ml_task(description):\n",
    "    if \"predict\" in description.lower() or \"classify\" in description.lower():\n",
    "        return \"Supervised Learning\"\n",
    "    return \"Unsupervised Learning\"\n",
    "\n",
    "description = \"Group customers based on their purchasing patterns.\"\n",
    "print(categorize_ml_task(description))"
   ]
  },
  {
   "cell_type": "code",
   "execution_count": 25,
   "id": "8a620c0e-561c-4171-ac95-3dbda9a52014",
   "metadata": {},
   "outputs": [
    {
     "name": "stdout",
     "output_type": "stream",
     "text": [
      "13.0\n"
     ]
    }
   ],
   "source": [
    "def predict_y(m, c, x):\n",
    "    return m * x + c\n",
    "\n",
    "m = 2.0\n",
    "c = 3.0\n",
    "x = 5.0\n",
    "print(predict_y(m, c, x))"
   ]
  },
  {
   "cell_type": "code",
   "execution_count": 27,
   "id": "00e17f79-4f18-439d-801a-42c8514ee44c",
   "metadata": {},
   "outputs": [
    {
     "name": "stdout",
     "output_type": "stream",
     "text": [
      "[1, 2, 3, 4, 8]\n"
     ]
    }
   ],
   "source": [
    "def remove_duplicates_and_sort(data):\n",
    "    return sorted(set(data))\n",
    "\n",
    "input_list = [4, 2, 2, 8, 3, 3, 1]\n",
    "print(remove_duplicates_and_sort(input_list))"
   ]
  },
  {
   "cell_type": "code",
   "execution_count": 29,
   "id": "d92e4202-13ca-43b8-b21d-63e2379aabf6",
   "metadata": {},
   "outputs": [
    {
     "ename": "ValueError",
     "evalue": "All arrays must be of the same length",
     "output_type": "error",
     "traceback": [
      "\u001b[1;31m---------------------------------------------------------------------------\u001b[0m",
      "\u001b[1;31mValueError\u001b[0m                                Traceback (most recent call last)",
      "Cell \u001b[1;32mIn[29], line 11\u001b[0m\n\u001b[0;32m      2\u001b[0m sales\u001b[38;5;241m=\u001b[39m{\u001b[38;5;124m\"\u001b[39m\u001b[38;5;124msales\u001b[39m\u001b[38;5;124m\"\u001b[39m:[\u001b[38;5;241m0\u001b[39m,\u001b[38;5;241m1\u001b[39m,\u001b[38;5;241m2\u001b[39m,\u001b[38;5;241m3\u001b[39m,\u001b[38;5;241m4\u001b[39m],\n\u001b[0;32m      3\u001b[0m        \u001b[38;5;124m\"\u001b[39m\u001b[38;5;124mtransaction_id\u001b[39m\u001b[38;5;124m\"\u001b[39m:[\u001b[38;5;241m234\u001b[39m,\u001b[38;5;241m533\u001b[39m,\u001b[38;5;241m645\u001b[39m,\u001b[38;5;241m745\u001b[39m],\n\u001b[0;32m      4\u001b[0m        \u001b[38;5;124m\"\u001b[39m\u001b[38;5;124mamount\u001b[39m\u001b[38;5;124m\"\u001b[39m:[\u001b[38;5;241m24000\u001b[39m,\u001b[38;5;241m59000\u001b[39m,\u001b[38;5;241m45000\u001b[39m,\u001b[38;5;241m54000\u001b[39m],\n\u001b[0;32m      5\u001b[0m        \u001b[38;5;124m\"\u001b[39m\u001b[38;5;124mdate\u001b[39m\u001b[38;5;124m\"\u001b[39m:[\u001b[38;5;241m20\u001b[39m\u001b[38;5;241m-\u001b[39m\u001b[38;5;241m10\u001b[39m\u001b[38;5;241m-\u001b[39m\u001b[38;5;241m25\u001b[39m,\u001b[38;5;241m21\u001b[39m\u001b[38;5;241m-\u001b[39m\u001b[38;5;241m10\u001b[39m\u001b[38;5;241m-\u001b[39m\u001b[38;5;241m25\u001b[39m,\u001b[38;5;241m22\u001b[39m\u001b[38;5;241m-\u001b[39m\u001b[38;5;241m10\u001b[39m\u001b[38;5;241m-\u001b[39m\u001b[38;5;241m25\u001b[39m,\u001b[38;5;241m23\u001b[39m\u001b[38;5;241m-\u001b[39m\u001b[38;5;241m10\u001b[39m\u001b[38;5;241m-\u001b[39m\u001b[38;5;241m25\u001b[39m]}\n\u001b[0;32m      6\u001b[0m customer\u001b[38;5;241m=\u001b[39m{\u001b[38;5;124m\"\u001b[39m\u001b[38;5;124mcustomer_id\u001b[39m\u001b[38;5;124m\"\u001b[39m:[\u001b[38;5;241m1\u001b[39m,\u001b[38;5;241m2\u001b[39m,\u001b[38;5;241m3\u001b[39m,\u001b[38;5;241m4\u001b[39m],\n\u001b[0;32m      7\u001b[0m         \u001b[38;5;124m\"\u001b[39m\u001b[38;5;124mcustomer_name\u001b[39m\u001b[38;5;124m\"\u001b[39m:[\u001b[38;5;124m'\u001b[39m\u001b[38;5;124maaa\u001b[39m\u001b[38;5;124m'\u001b[39m,\u001b[38;5;124m'\u001b[39m\u001b[38;5;124mbbb\u001b[39m\u001b[38;5;124m'\u001b[39m,\u001b[38;5;124m'\u001b[39m\u001b[38;5;124mccc\u001b[39m\u001b[38;5;124m'\u001b[39m,\u001b[38;5;124m'\u001b[39m\u001b[38;5;124mddd\u001b[39m\u001b[38;5;124m'\u001b[39m],  \n\u001b[0;32m      8\u001b[0m           \u001b[38;5;124m\"\u001b[39m\u001b[38;5;124mtransaction_id\u001b[39m\u001b[38;5;124m\"\u001b[39m:[\u001b[38;5;241m234\u001b[39m,\u001b[38;5;241m533\u001b[39m,\u001b[38;5;241m645\u001b[39m,\u001b[38;5;241m745\u001b[39m],\n\u001b[0;32m      9\u001b[0m         \u001b[38;5;124m\"\u001b[39m\u001b[38;5;124mplace\u001b[39m\u001b[38;5;124m\"\u001b[39m:[\u001b[38;5;124m\"\u001b[39m\u001b[38;5;124mcanda\u001b[39m\u001b[38;5;124m\"\u001b[39m,\u001b[38;5;124m\"\u001b[39m\u001b[38;5;124mindia\u001b[39m\u001b[38;5;124m\"\u001b[39m,\u001b[38;5;124m\"\u001b[39m\u001b[38;5;124mitaly\u001b[39m\u001b[38;5;124m\"\u001b[39m,\u001b[38;5;124m\"\u001b[39m\u001b[38;5;124mlondan\u001b[39m\u001b[38;5;124m\"\u001b[39m],\n\u001b[0;32m     10\u001b[0m         \u001b[38;5;124m\"\u001b[39m\u001b[38;5;124munit_number\u001b[39m\u001b[38;5;124m\"\u001b[39m:[\u001b[38;5;241m20\u001b[39m,\u001b[38;5;241m21\u001b[39m,\u001b[38;5;241m23\u001b[39m,\u001b[38;5;241m34\u001b[39m]}\n\u001b[1;32m---> 11\u001b[0m df1\u001b[38;5;241m=\u001b[39mpd\u001b[38;5;241m.\u001b[39mDataFrame(sales)\n\u001b[0;32m     12\u001b[0m df2\u001b[38;5;241m=\u001b[39mpd\u001b[38;5;241m.\u001b[39mDataFrame(customer)\n\u001b[0;32m     13\u001b[0m df1\n",
      "File \u001b[1;32m~\\anaconda3\\Lib\\site-packages\\pandas\\core\\frame.py:778\u001b[0m, in \u001b[0;36mDataFrame.__init__\u001b[1;34m(self, data, index, columns, dtype, copy)\u001b[0m\n\u001b[0;32m    772\u001b[0m     mgr \u001b[38;5;241m=\u001b[39m \u001b[38;5;28mself\u001b[39m\u001b[38;5;241m.\u001b[39m_init_mgr(\n\u001b[0;32m    773\u001b[0m         data, axes\u001b[38;5;241m=\u001b[39m{\u001b[38;5;124m\"\u001b[39m\u001b[38;5;124mindex\u001b[39m\u001b[38;5;124m\"\u001b[39m: index, \u001b[38;5;124m\"\u001b[39m\u001b[38;5;124mcolumns\u001b[39m\u001b[38;5;124m\"\u001b[39m: columns}, dtype\u001b[38;5;241m=\u001b[39mdtype, copy\u001b[38;5;241m=\u001b[39mcopy\n\u001b[0;32m    774\u001b[0m     )\n\u001b[0;32m    776\u001b[0m \u001b[38;5;28;01melif\u001b[39;00m \u001b[38;5;28misinstance\u001b[39m(data, \u001b[38;5;28mdict\u001b[39m):\n\u001b[0;32m    777\u001b[0m     \u001b[38;5;66;03m# GH#38939 de facto copy defaults to False only in non-dict cases\u001b[39;00m\n\u001b[1;32m--> 778\u001b[0m     mgr \u001b[38;5;241m=\u001b[39m dict_to_mgr(data, index, columns, dtype\u001b[38;5;241m=\u001b[39mdtype, copy\u001b[38;5;241m=\u001b[39mcopy, typ\u001b[38;5;241m=\u001b[39mmanager)\n\u001b[0;32m    779\u001b[0m \u001b[38;5;28;01melif\u001b[39;00m \u001b[38;5;28misinstance\u001b[39m(data, ma\u001b[38;5;241m.\u001b[39mMaskedArray):\n\u001b[0;32m    780\u001b[0m     \u001b[38;5;28;01mfrom\u001b[39;00m \u001b[38;5;21;01mnumpy\u001b[39;00m\u001b[38;5;21;01m.\u001b[39;00m\u001b[38;5;21;01mma\u001b[39;00m \u001b[38;5;28;01mimport\u001b[39;00m mrecords\n",
      "File \u001b[1;32m~\\anaconda3\\Lib\\site-packages\\pandas\\core\\internals\\construction.py:503\u001b[0m, in \u001b[0;36mdict_to_mgr\u001b[1;34m(data, index, columns, dtype, typ, copy)\u001b[0m\n\u001b[0;32m    499\u001b[0m     \u001b[38;5;28;01melse\u001b[39;00m:\n\u001b[0;32m    500\u001b[0m         \u001b[38;5;66;03m# dtype check to exclude e.g. range objects, scalars\u001b[39;00m\n\u001b[0;32m    501\u001b[0m         arrays \u001b[38;5;241m=\u001b[39m [x\u001b[38;5;241m.\u001b[39mcopy() \u001b[38;5;28;01mif\u001b[39;00m \u001b[38;5;28mhasattr\u001b[39m(x, \u001b[38;5;124m\"\u001b[39m\u001b[38;5;124mdtype\u001b[39m\u001b[38;5;124m\"\u001b[39m) \u001b[38;5;28;01melse\u001b[39;00m x \u001b[38;5;28;01mfor\u001b[39;00m x \u001b[38;5;129;01min\u001b[39;00m arrays]\n\u001b[1;32m--> 503\u001b[0m \u001b[38;5;28;01mreturn\u001b[39;00m arrays_to_mgr(arrays, columns, index, dtype\u001b[38;5;241m=\u001b[39mdtype, typ\u001b[38;5;241m=\u001b[39mtyp, consolidate\u001b[38;5;241m=\u001b[39mcopy)\n",
      "File \u001b[1;32m~\\anaconda3\\Lib\\site-packages\\pandas\\core\\internals\\construction.py:114\u001b[0m, in \u001b[0;36marrays_to_mgr\u001b[1;34m(arrays, columns, index, dtype, verify_integrity, typ, consolidate)\u001b[0m\n\u001b[0;32m    111\u001b[0m \u001b[38;5;28;01mif\u001b[39;00m verify_integrity:\n\u001b[0;32m    112\u001b[0m     \u001b[38;5;66;03m# figure out the index, if necessary\u001b[39;00m\n\u001b[0;32m    113\u001b[0m     \u001b[38;5;28;01mif\u001b[39;00m index \u001b[38;5;129;01mis\u001b[39;00m \u001b[38;5;28;01mNone\u001b[39;00m:\n\u001b[1;32m--> 114\u001b[0m         index \u001b[38;5;241m=\u001b[39m _extract_index(arrays)\n\u001b[0;32m    115\u001b[0m     \u001b[38;5;28;01melse\u001b[39;00m:\n\u001b[0;32m    116\u001b[0m         index \u001b[38;5;241m=\u001b[39m ensure_index(index)\n",
      "File \u001b[1;32m~\\anaconda3\\Lib\\site-packages\\pandas\\core\\internals\\construction.py:677\u001b[0m, in \u001b[0;36m_extract_index\u001b[1;34m(data)\u001b[0m\n\u001b[0;32m    675\u001b[0m lengths \u001b[38;5;241m=\u001b[39m \u001b[38;5;28mlist\u001b[39m(\u001b[38;5;28mset\u001b[39m(raw_lengths))\n\u001b[0;32m    676\u001b[0m \u001b[38;5;28;01mif\u001b[39;00m \u001b[38;5;28mlen\u001b[39m(lengths) \u001b[38;5;241m>\u001b[39m \u001b[38;5;241m1\u001b[39m:\n\u001b[1;32m--> 677\u001b[0m     \u001b[38;5;28;01mraise\u001b[39;00m \u001b[38;5;167;01mValueError\u001b[39;00m(\u001b[38;5;124m\"\u001b[39m\u001b[38;5;124mAll arrays must be of the same length\u001b[39m\u001b[38;5;124m\"\u001b[39m)\n\u001b[0;32m    679\u001b[0m \u001b[38;5;28;01mif\u001b[39;00m have_dicts:\n\u001b[0;32m    680\u001b[0m     \u001b[38;5;28;01mraise\u001b[39;00m \u001b[38;5;167;01mValueError\u001b[39;00m(\n\u001b[0;32m    681\u001b[0m         \u001b[38;5;124m\"\u001b[39m\u001b[38;5;124mMixing dicts with non-Series may lead to ambiguous ordering.\u001b[39m\u001b[38;5;124m\"\u001b[39m\n\u001b[0;32m    682\u001b[0m     )\n",
      "\u001b[1;31mValueError\u001b[0m: All arrays must be of the same length"
     ]
    }
   ],
   "source": [
    "import pandas as pd\n",
    "sales={\"sales\":[0,1,2,3,4],\n",
    "       \"transaction_id\":[234,533,645,745],\n",
    "       \"amount\":[24000,59000,45000,54000],\n",
    "       \"date\":[20-10-25,21-10-25,22-10-25,23-10-25]}\n",
    "customer={\"customer_id\":[1,2,3,4],\n",
    "        \"customer_name\":['aaa','bbb','ccc','ddd'],  \n",
    "          \"transaction_id\":[234,533,645,745],\n",
    "        \"place\":[\"canda\",\"india\",\"italy\",\"londan\"],\n",
    "        \"unit_number\":[20,21,23,34]}\n",
    "df1=pd.DataFrame(sales)\n",
    "df2=pd.DataFrame(customer)\n",
    "df1\n",
    "df2"
   ]
  },
  {
   "cell_type": "code",
   "execution_count": null,
   "id": "3e694781-5bb6-4291-ae90-4fec0aa65f9b",
   "metadata": {},
   "outputs": [],
   "source": []
  }
 ],
 "metadata": {
  "kernelspec": {
   "display_name": "Python 3 (ipykernel)",
   "language": "python",
   "name": "python3"
  },
  "language_info": {
   "codemirror_mode": {
    "name": "ipython",
    "version": 3
   },
   "file_extension": ".py",
   "mimetype": "text/x-python",
   "name": "python",
   "nbconvert_exporter": "python",
   "pygments_lexer": "ipython3",
   "version": "3.12.4"
  }
 },
 "nbformat": 4,
 "nbformat_minor": 5
}
